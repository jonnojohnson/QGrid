{
 "metadata": {
  "name": "",
  "signature": "sha256:cfc04b2ebee162bea57efcd2fae6b470357bfba74d58b23d594253ddf442b852"
 },
 "nbformat": 3,
 "nbformat_minor": 0,
 "worksheets": [
  {
   "cells": [
    {
     "cell_type": "code",
     "collapsed": false,
     "input": [
      "import pandas as pd\n",
      "pd.set_option('display.width', 200) # widen the display to see more columns"
     ],
     "language": "python",
     "metadata": {},
     "outputs": [],
     "prompt_number": 1
    },
    {
     "cell_type": "code",
     "collapsed": false,
     "input": [
      "import qgrid    # Qgrid is an IPython extension which uses a javascript library called SlickGrid to render pandas DataFrames within an IPython notebook.\n",
      "qgrid.nbinstall()  # copies javascript dependencies to your /nbextensions folder"
     ],
     "language": "python",
     "metadata": {},
     "outputs": [],
     "prompt_number": 2
    },
    {
     "cell_type": "code",
     "collapsed": false,
     "input": [
      "import sys\n",
      "from PyQt4 import QtGui\n",
      "app=QtGui.QApplication.instance()\n",
      "if not app:\n",
      "    app = QtGui.QApplication(sys.argv)\n",
      "file_path = str(QtGui.QFileDialog.getOpenFileName(filter = \"CSV Files (*.csv)\"))\n",
      "df = pd.read_csv(file_path)"
     ],
     "language": "python",
     "metadata": {},
     "outputs": [],
     "prompt_number": 3
    },
    {
     "cell_type": "code",
     "collapsed": false,
     "input": [
      "df.columns.values"
     ],
     "language": "python",
     "metadata": {},
     "outputs": [
      {
       "metadata": {},
       "output_type": "pyout",
       "prompt_number": 4,
       "text": [
        "array(['Calendar Month', 'Sales Rep Name', 'Product Line', '$ Sales'], dtype=object)"
       ]
      }
     ],
     "prompt_number": 4
    },
    {
     "cell_type": "code",
     "collapsed": false,
     "input": [
      "df"
     ],
     "language": "python",
     "metadata": {},
     "outputs": [
      {
       "html": [
        "<div style=\"max-height:1000px;max-width:1500px;overflow:auto;\">\n",
        "<table border=\"1\" class=\"dataframe\">\n",
        "  <thead>\n",
        "    <tr style=\"text-align: right;\">\n",
        "      <th></th>\n",
        "      <th>Calendar Month</th>\n",
        "      <th>Sales Rep Name</th>\n",
        "      <th>Product Line</th>\n",
        "      <th>$ Sales</th>\n",
        "    </tr>\n",
        "  </thead>\n",
        "  <tbody>\n",
        "    <tr>\n",
        "      <th>0 </th>\n",
        "      <td> 2013-M11</td>\n",
        "      <td> Joe</td>\n",
        "      <td> 1A</td>\n",
        "      <td>   310.08</td>\n",
        "    </tr>\n",
        "    <tr>\n",
        "      <th>1 </th>\n",
        "      <td> 2013-M11</td>\n",
        "      <td> Joe</td>\n",
        "      <td> 1A</td>\n",
        "      <td>  3264.05</td>\n",
        "    </tr>\n",
        "    <tr>\n",
        "      <th>2 </th>\n",
        "      <td> 2013-M11</td>\n",
        "      <td> Joe</td>\n",
        "      <td> 1A</td>\n",
        "      <td>    24.38</td>\n",
        "    </tr>\n",
        "    <tr>\n",
        "      <th>3 </th>\n",
        "      <td> 2013-M11</td>\n",
        "      <td> Jim</td>\n",
        "      <td> 1A</td>\n",
        "      <td>   256.58</td>\n",
        "    </tr>\n",
        "    <tr>\n",
        "      <th>4 </th>\n",
        "      <td> 2013-M11</td>\n",
        "      <td> Jim</td>\n",
        "      <td> 1A</td>\n",
        "      <td>    -7.03</td>\n",
        "    </tr>\n",
        "    <tr>\n",
        "      <th>5 </th>\n",
        "      <td> 2013-M11</td>\n",
        "      <td> Jim</td>\n",
        "      <td> 1A</td>\n",
        "      <td>   -74.00</td>\n",
        "    </tr>\n",
        "    <tr>\n",
        "      <th>6 </th>\n",
        "      <td> 2013-M11</td>\n",
        "      <td> Joe</td>\n",
        "      <td> 1B</td>\n",
        "      <td>   882.00</td>\n",
        "    </tr>\n",
        "    <tr>\n",
        "      <th>7 </th>\n",
        "      <td> 2013-M11</td>\n",
        "      <td> Joe</td>\n",
        "      <td> 1B</td>\n",
        "      <td>  1429.20</td>\n",
        "    </tr>\n",
        "    <tr>\n",
        "      <th>8 </th>\n",
        "      <td> 2013-M11</td>\n",
        "      <td> Joe</td>\n",
        "      <td> 1B</td>\n",
        "      <td> 19584.00</td>\n",
        "    </tr>\n",
        "    <tr>\n",
        "      <th>9 </th>\n",
        "      <td> 2013-M11</td>\n",
        "      <td> Joe</td>\n",
        "      <td> 1B</td>\n",
        "      <td> 20054.70</td>\n",
        "    </tr>\n",
        "    <tr>\n",
        "      <th>10</th>\n",
        "      <td> 2013-M11</td>\n",
        "      <td> Jim</td>\n",
        "      <td> 1B</td>\n",
        "      <td>  4960.80</td>\n",
        "    </tr>\n",
        "    <tr>\n",
        "      <th>11</th>\n",
        "      <td> 2013-M11</td>\n",
        "      <td> Jim</td>\n",
        "      <td> 1B</td>\n",
        "      <td>   225.43</td>\n",
        "    </tr>\n",
        "    <tr>\n",
        "      <th>12</th>\n",
        "      <td> 2013-M11</td>\n",
        "      <td> Jim</td>\n",
        "      <td> 1B</td>\n",
        "      <td>  2372.92</td>\n",
        "    </tr>\n",
        "    <tr>\n",
        "      <th>13</th>\n",
        "      <td> 2013-M11</td>\n",
        "      <td> Jim</td>\n",
        "      <td> 1B</td>\n",
        "      <td>  3031.20</td>\n",
        "    </tr>\n",
        "  </tbody>\n",
        "</table>\n",
        "</div>"
       ],
       "metadata": {},
       "output_type": "pyout",
       "prompt_number": 7,
       "text": [
        "   Calendar Month Sales Rep Name Product Line   $ Sales\n",
        "0        2013-M11            Joe           1A    310.08\n",
        "1        2013-M11            Joe           1A   3264.05\n",
        "2        2013-M11            Joe           1A     24.38\n",
        "3        2013-M11            Jim           1A    256.58\n",
        "4        2013-M11            Jim           1A     -7.03\n",
        "5        2013-M11            Jim           1A    -74.00\n",
        "6        2013-M11            Joe           1B    882.00\n",
        "7        2013-M11            Joe           1B   1429.20\n",
        "8        2013-M11            Joe           1B  19584.00\n",
        "9        2013-M11            Joe           1B  20054.70\n",
        "10       2013-M11            Jim           1B   4960.80\n",
        "11       2013-M11            Jim           1B    225.43\n",
        "12       2013-M11            Jim           1B   2372.92\n",
        "13       2013-M11            Jim           1B   3031.20"
       ]
      }
     ],
     "prompt_number": 7
    },
    {
     "cell_type": "code",
     "collapsed": false,
     "input": [
      "qgrid.show_grid(df, remote_js = True)"
     ],
     "language": "python",
     "metadata": {},
     "outputs": [
      {
       "html": [
        "<script type=\"text/javascript\">\n",
        "if ($(\"#dg-css\").length == 0){\n",
        "    $(\"head\").append([\n",
        "        \"<link href='https://cdn.rawgit.com/quantopian/qgrid/ddf33c0efb813cd574f3838f6cf1fd584b733621/qgrid/qgridjs//lib/slick.grid.css' rel='stylesheet'>\",\n",
        "        \"<link href='https://cdn.rawgit.com/quantopian/qgrid/ddf33c0efb813cd574f3838f6cf1fd584b733621/qgrid/qgridjs//lib/slick-default-theme.css' rel='stylesheet'>\",\n",
        "        \"<link href='http://cdnjs.cloudflare.com/ajax/libs/jqueryui/1.10.4/css/jquery-ui.min.css' rel='stylesheet'>\",\n",
        "        \"<link id='dg-css' href='https://cdn.rawgit.com/quantopian/qgrid/ddf33c0efb813cd574f3838f6cf1fd584b733621/qgrid/qgridjs//qgrid.css' rel='stylesheet'>\"\n",
        "    ]);\n",
        "}\n",
        "</script>\n",
        "<div class='q-grid-container'>\n",
        "<div id='b603a8cc-4570-480b-94b2-064c5aba4ea9' class='q-grid'></div>\n",
        "</div>"
       ],
       "metadata": {},
       "output_type": "display_data"
      },
      {
       "javascript": [
        "var path_dictionary = {\n",
        "    jquery_drag: \"https://cdn.rawgit.com/quantopian/qgrid/ddf33c0efb813cd574f3838f6cf1fd584b733621/qgrid/qgridjs//lib/jquery.event.drag-2.2\",\n",
        "    slick_core: \"https://cdn.rawgit.com/quantopian/qgrid/ddf33c0efb813cd574f3838f6cf1fd584b733621/qgrid/qgridjs//lib/slick.core.2.2\",\n",
        "    slick_data_view: \"https://cdn.rawgit.com/quantopian/qgrid/ddf33c0efb813cd574f3838f6cf1fd584b733621/qgrid/qgridjs//lib/slick.dataview.2.2\",\n",
        "    slick_check_box_column: \"https://cdn.rawgit.com/quantopian/qgrid/ddf33c0efb813cd574f3838f6cf1fd584b733621/qgrid/qgridjs//lib/slick.checkboxselectcolumn\",\n",
        "    slick_row_selection_model: \"https://cdn.rawgit.com/quantopian/qgrid/ddf33c0efb813cd574f3838f6cf1fd584b733621/qgrid/qgridjs//lib/slick.rowselectionmodel\",\n",
        "    slick_grid: \"https://cdn.rawgit.com/quantopian/qgrid/ddf33c0efb813cd574f3838f6cf1fd584b733621/qgrid/qgridjs//lib/slick.grid.2.2\",\n",
        "    data_grid: \"https://cdn.rawgit.com/quantopian/qgrid/ddf33c0efb813cd574f3838f6cf1fd584b733621/qgrid/qgridjs//qgrid\",\n",
        "    date_filter: \"https://cdn.rawgit.com/quantopian/qgrid/ddf33c0efb813cd574f3838f6cf1fd584b733621/qgrid/qgridjs//qgrid.datefilter\",\n",
        "    slider_filter: \"https://cdn.rawgit.com/quantopian/qgrid/ddf33c0efb813cd574f3838f6cf1fd584b733621/qgrid/qgridjs//qgrid.sliderfilter\",\n",
        "    text_filter: \"https://cdn.rawgit.com/quantopian/qgrid/ddf33c0efb813cd574f3838f6cf1fd584b733621/qgrid/qgridjs//qgrid.textfilter\",\n",
        "    filter_base:  \"https://cdn.rawgit.com/quantopian/qgrid/ddf33c0efb813cd574f3838f6cf1fd584b733621/qgrid/qgridjs//qgrid.filterbase\",\n",
        "    handlebars: \"https://cdnjs.cloudflare.com/ajax/libs/handlebars.js/2.0.0/handlebars.min\"\n",
        "};\n",
        "\n",
        "var existing_config = require.s.contexts._.config;\n",
        "if (!existing_config.paths['underscore']){\n",
        "    path_dictionary['underscore'] = \"https://cdnjs.cloudflare.com/ajax/libs/underscore.js/1.7.0/underscore-min\";\n",
        "}\n",
        "\n",
        "if (!existing_config.paths['moment']){\n",
        "    path_dictionary['moment'] = \"https://cdnjs.cloudflare.com/ajax/libs/moment.js/2.8.3/moment.min\";\n",
        "}\n",
        "\n",
        "if (!existing_config.paths['jqueryui']){\n",
        "    path_dictionary['jqueryui'] = \"https://ajax.googleapis.com/ajax/libs/jqueryui/1.11.1/jquery-ui.min\";\n",
        "}\n",
        "\n",
        "require.config({\n",
        "    paths: path_dictionary\n",
        "});\n",
        "\n",
        "if (typeof jQuery === 'function') {\n",
        "    define('jquery', function() { return jQuery; });\n",
        "}\n",
        "\n",
        "require([\n",
        "    'jquery',\n",
        "    'jquery_drag',\n",
        "    'slick_core',\n",
        "    'slick_data_view'\n",
        "],\n",
        "function($){\n",
        "    $('#b603a8cc-4570-480b-94b2-064c5aba4ea9').closest('.rendered_html').removeClass('rendered_html');\n",
        "    require([\n",
        "      'slick_check_box_column',\n",
        "      'slick_row_selection_model',\n",
        "      'slick_grid'\n",
        "    ], function(){\n",
        "        require([\"data_grid\"], function(dgrid){\n",
        "            var grid = new dgrid.QGrid('#b603a8cc-4570-480b-94b2-064c5aba4ea9', [{\"null\":0,\"Calendar Month\":\"2013-M11\",\"Sales Rep Name\":\"Joe\",\"Product Line\":\"1A\",\"$ Sales\":310.08},{\"null\":1,\"Calendar Month\":\"2013-M11\",\"Sales Rep Name\":\"Joe\",\"Product Line\":\"1A\",\"$ Sales\":3264.05},{\"null\":2,\"Calendar Month\":\"2013-M11\",\"Sales Rep Name\":\"Joe\",\"Product Line\":\"1A\",\"$ Sales\":24.38},{\"null\":3,\"Calendar Month\":\"2013-M11\",\"Sales Rep Name\":\"Jim\",\"Product Line\":\"1A\",\"$ Sales\":256.58},{\"null\":4,\"Calendar Month\":\"2013-M11\",\"Sales Rep Name\":\"Jim\",\"Product Line\":\"1A\",\"$ Sales\":-7.03},{\"null\":5,\"Calendar Month\":\"2013-M11\",\"Sales Rep Name\":\"Jim\",\"Product Line\":\"1A\",\"$ Sales\":-74.0},{\"null\":6,\"Calendar Month\":\"2013-M11\",\"Sales Rep Name\":\"Joe\",\"Product Line\":\"1B\",\"$ Sales\":882.0},{\"null\":7,\"Calendar Month\":\"2013-M11\",\"Sales Rep Name\":\"Joe\",\"Product Line\":\"1B\",\"$ Sales\":1429.2},{\"null\":8,\"Calendar Month\":\"2013-M11\",\"Sales Rep Name\":\"Joe\",\"Product Line\":\"1B\",\"$ Sales\":19584.0},{\"null\":9,\"Calendar Month\":\"2013-M11\",\"Sales Rep Name\":\"Joe\",\"Product Line\":\"1B\",\"$ Sales\":20054.7},{\"null\":10,\"Calendar Month\":\"2013-M11\",\"Sales Rep Name\":\"Jim\",\"Product Line\":\"1B\",\"$ Sales\":4960.8},{\"null\":11,\"Calendar Month\":\"2013-M11\",\"Sales Rep Name\":\"Jim\",\"Product Line\":\"1B\",\"$ Sales\":225.43},{\"null\":12,\"Calendar Month\":\"2013-M11\",\"Sales Rep Name\":\"Jim\",\"Product Line\":\"1B\",\"$ Sales\":2372.92},{\"null\":13,\"Calendar Month\":\"2013-M11\",\"Sales Rep Name\":\"Jim\",\"Product Line\":\"1B\",\"$ Sales\":3031.2}], [{\"field\": null, \"type\": \"Integer\"}, {\"field\": \"Calendar Month\"}, {\"field\": \"Sales Rep Name\"}, {\"field\": \"Product Line\"}, {\"field\": \"$ Sales\", \"type\": \"Float\"}]);\n",
        "            grid.initialize_slick_grid();\n",
        "        });\n",
        "    });\n",
        "});\n"
       ],
       "metadata": {},
       "output_type": "display_data"
      }
     ],
     "prompt_number": 8
    },
    {
     "cell_type": "code",
     "collapsed": false,
     "input": [],
     "language": "python",
     "metadata": {},
     "outputs": []
    }
   ],
   "metadata": {}
  }
 ]
}